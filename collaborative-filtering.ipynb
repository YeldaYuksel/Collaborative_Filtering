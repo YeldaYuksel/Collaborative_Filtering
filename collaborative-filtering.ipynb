{
 "cells": [
  {
   "cell_type": "markdown",
   "id": "aaf1d58c",
   "metadata": {
    "papermill": {
     "duration": 0.016853,
     "end_time": "2024-09-27T14:21:04.851484",
     "exception": false,
     "start_time": "2024-09-27T14:21:04.834631",
     "status": "completed"
    },
    "tags": []
   },
   "source": [
    "***Making predictions for a given userID using Item-Based and User-Based Collaborative Filtering methods***"
   ]
  },
  {
   "cell_type": "code",
   "execution_count": 1,
   "id": "9f23e372",
   "metadata": {
    "execution": {
     "iopub.execute_input": "2024-09-27T14:21:04.888318Z",
     "iopub.status.busy": "2024-09-27T14:21:04.887855Z",
     "iopub.status.idle": "2024-09-27T14:21:05.760046Z",
     "shell.execute_reply": "2024-09-27T14:21:05.758838Z"
    },
    "papermill": {
     "duration": 0.894566,
     "end_time": "2024-09-27T14:21:05.762825",
     "exception": false,
     "start_time": "2024-09-27T14:21:04.868259",
     "status": "completed"
    },
    "tags": []
   },
   "outputs": [],
   "source": [
    "import pandas as pd\n",
    "\n",
    "pd.options.display.max_columns=10\n",
    "pd.options.display.max_rows=20\n",
    "pd.options.display.float_format = '{:.3f}'.format\n",
    "pd.options.display.width = 1000"
   ]
  },
  {
   "cell_type": "code",
   "execution_count": 2,
   "id": "82230a6a",
   "metadata": {
    "execution": {
     "iopub.execute_input": "2024-09-27T14:21:05.797753Z",
     "iopub.status.busy": "2024-09-27T14:21:05.797139Z",
     "iopub.status.idle": "2024-09-27T14:21:34.016268Z",
     "shell.execute_reply": "2024-09-27T14:21:34.015074Z"
    },
    "papermill": {
     "duration": 28.239945,
     "end_time": "2024-09-27T14:21:34.019262",
     "exception": false,
     "start_time": "2024-09-27T14:21:05.779317",
     "status": "completed"
    },
    "tags": []
   },
   "outputs": [
    {
     "data": {
      "text/html": [
       "<div>\n",
       "<style scoped>\n",
       "    .dataframe tbody tr th:only-of-type {\n",
       "        vertical-align: middle;\n",
       "    }\n",
       "\n",
       "    .dataframe tbody tr th {\n",
       "        vertical-align: top;\n",
       "    }\n",
       "\n",
       "    .dataframe thead th {\n",
       "        text-align: right;\n",
       "    }\n",
       "</style>\n",
       "<table border=\"1\" class=\"dataframe\">\n",
       "  <thead>\n",
       "    <tr style=\"text-align: right;\">\n",
       "      <th></th>\n",
       "      <th>movieId</th>\n",
       "      <th>title</th>\n",
       "      <th>genres</th>\n",
       "    </tr>\n",
       "  </thead>\n",
       "  <tbody>\n",
       "    <tr>\n",
       "      <th>0</th>\n",
       "      <td>1</td>\n",
       "      <td>Toy Story (1995)</td>\n",
       "      <td>Adventure|Animation|Children|Comedy|Fantasy</td>\n",
       "    </tr>\n",
       "    <tr>\n",
       "      <th>1</th>\n",
       "      <td>2</td>\n",
       "      <td>Jumanji (1995)</td>\n",
       "      <td>Adventure|Children|Fantasy</td>\n",
       "    </tr>\n",
       "    <tr>\n",
       "      <th>2</th>\n",
       "      <td>3</td>\n",
       "      <td>Grumpier Old Men (1995)</td>\n",
       "      <td>Comedy|Romance</td>\n",
       "    </tr>\n",
       "    <tr>\n",
       "      <th>3</th>\n",
       "      <td>4</td>\n",
       "      <td>Waiting to Exhale (1995)</td>\n",
       "      <td>Comedy|Drama|Romance</td>\n",
       "    </tr>\n",
       "    <tr>\n",
       "      <th>4</th>\n",
       "      <td>5</td>\n",
       "      <td>Father of the Bride Part II (1995)</td>\n",
       "      <td>Comedy</td>\n",
       "    </tr>\n",
       "  </tbody>\n",
       "</table>\n",
       "</div>"
      ],
      "text/plain": [
       "   movieId                               title                                       genres\n",
       "0        1                    Toy Story (1995)  Adventure|Animation|Children|Comedy|Fantasy\n",
       "1        2                      Jumanji (1995)                   Adventure|Children|Fantasy\n",
       "2        3             Grumpier Old Men (1995)                               Comedy|Romance\n",
       "3        4            Waiting to Exhale (1995)                         Comedy|Drama|Romance\n",
       "4        5  Father of the Bride Part II (1995)                                       Comedy"
      ]
     },
     "execution_count": 2,
     "metadata": {},
     "output_type": "execute_result"
    }
   ],
   "source": [
    "movie = pd.read_csv(\"/kaggle/input/movie-rating/movie.csv\")\n",
    "rating = pd.read_csv(\"/kaggle/input/movie-rating/rating.csv\")\n",
    "\n",
    "movie.head()"
   ]
  },
  {
   "cell_type": "code",
   "execution_count": 3,
   "id": "a814eafb",
   "metadata": {
    "execution": {
     "iopub.execute_input": "2024-09-27T14:21:34.055119Z",
     "iopub.status.busy": "2024-09-27T14:21:34.054654Z",
     "iopub.status.idle": "2024-09-27T14:21:34.067059Z",
     "shell.execute_reply": "2024-09-27T14:21:34.065767Z"
    },
    "papermill": {
     "duration": 0.032942,
     "end_time": "2024-09-27T14:21:34.069475",
     "exception": false,
     "start_time": "2024-09-27T14:21:34.036533",
     "status": "completed"
    },
    "tags": []
   },
   "outputs": [
    {
     "data": {
      "text/html": [
       "<div>\n",
       "<style scoped>\n",
       "    .dataframe tbody tr th:only-of-type {\n",
       "        vertical-align: middle;\n",
       "    }\n",
       "\n",
       "    .dataframe tbody tr th {\n",
       "        vertical-align: top;\n",
       "    }\n",
       "\n",
       "    .dataframe thead th {\n",
       "        text-align: right;\n",
       "    }\n",
       "</style>\n",
       "<table border=\"1\" class=\"dataframe\">\n",
       "  <thead>\n",
       "    <tr style=\"text-align: right;\">\n",
       "      <th></th>\n",
       "      <th>userId</th>\n",
       "      <th>movieId</th>\n",
       "      <th>rating</th>\n",
       "      <th>timestamp</th>\n",
       "    </tr>\n",
       "  </thead>\n",
       "  <tbody>\n",
       "    <tr>\n",
       "      <th>0</th>\n",
       "      <td>1</td>\n",
       "      <td>2</td>\n",
       "      <td>3.500</td>\n",
       "      <td>2005-04-02 23:53:47</td>\n",
       "    </tr>\n",
       "    <tr>\n",
       "      <th>1</th>\n",
       "      <td>1</td>\n",
       "      <td>29</td>\n",
       "      <td>3.500</td>\n",
       "      <td>2005-04-02 23:31:16</td>\n",
       "    </tr>\n",
       "    <tr>\n",
       "      <th>2</th>\n",
       "      <td>1</td>\n",
       "      <td>32</td>\n",
       "      <td>3.500</td>\n",
       "      <td>2005-04-02 23:33:39</td>\n",
       "    </tr>\n",
       "    <tr>\n",
       "      <th>3</th>\n",
       "      <td>1</td>\n",
       "      <td>47</td>\n",
       "      <td>3.500</td>\n",
       "      <td>2005-04-02 23:32:07</td>\n",
       "    </tr>\n",
       "    <tr>\n",
       "      <th>4</th>\n",
       "      <td>1</td>\n",
       "      <td>50</td>\n",
       "      <td>3.500</td>\n",
       "      <td>2005-04-02 23:29:40</td>\n",
       "    </tr>\n",
       "  </tbody>\n",
       "</table>\n",
       "</div>"
      ],
      "text/plain": [
       "   userId  movieId  rating            timestamp\n",
       "0       1        2   3.500  2005-04-02 23:53:47\n",
       "1       1       29   3.500  2005-04-02 23:31:16\n",
       "2       1       32   3.500  2005-04-02 23:33:39\n",
       "3       1       47   3.500  2005-04-02 23:32:07\n",
       "4       1       50   3.500  2005-04-02 23:29:40"
      ]
     },
     "execution_count": 3,
     "metadata": {},
     "output_type": "execute_result"
    }
   ],
   "source": [
    "rating.head()"
   ]
  },
  {
   "cell_type": "markdown",
   "id": "b54aae7b",
   "metadata": {
    "papermill": {
     "duration": 0.016397,
     "end_time": "2024-09-27T14:21:34.103001",
     "exception": false,
     "start_time": "2024-09-27T14:21:34.086604",
     "status": "completed"
    },
    "tags": []
   },
   "source": [
    "**The ratings dataframe does not contain the movie titles and genres variables.**\n",
    "\n",
    "Adding these two variables from the movies df to the ratings df:"
   ]
  },
  {
   "cell_type": "code",
   "execution_count": 4,
   "id": "ce74678b",
   "metadata": {
    "execution": {
     "iopub.execute_input": "2024-09-27T14:21:34.138143Z",
     "iopub.status.busy": "2024-09-27T14:21:34.137687Z",
     "iopub.status.idle": "2024-09-27T14:21:41.807328Z",
     "shell.execute_reply": "2024-09-27T14:21:41.806056Z"
    },
    "papermill": {
     "duration": 7.690642,
     "end_time": "2024-09-27T14:21:41.810141",
     "exception": false,
     "start_time": "2024-09-27T14:21:34.119499",
     "status": "completed"
    },
    "tags": []
   },
   "outputs": [
    {
     "data": {
      "text/html": [
       "<div>\n",
       "<style scoped>\n",
       "    .dataframe tbody tr th:only-of-type {\n",
       "        vertical-align: middle;\n",
       "    }\n",
       "\n",
       "    .dataframe tbody tr th {\n",
       "        vertical-align: top;\n",
       "    }\n",
       "\n",
       "    .dataframe thead th {\n",
       "        text-align: right;\n",
       "    }\n",
       "</style>\n",
       "<table border=\"1\" class=\"dataframe\">\n",
       "  <thead>\n",
       "    <tr style=\"text-align: right;\">\n",
       "      <th></th>\n",
       "      <th>movieId</th>\n",
       "      <th>title</th>\n",
       "      <th>genres</th>\n",
       "      <th>userId</th>\n",
       "      <th>rating</th>\n",
       "      <th>timestamp</th>\n",
       "    </tr>\n",
       "  </thead>\n",
       "  <tbody>\n",
       "    <tr>\n",
       "      <th>0</th>\n",
       "      <td>1</td>\n",
       "      <td>Toy Story (1995)</td>\n",
       "      <td>Adventure|Animation|Children|Comedy|Fantasy</td>\n",
       "      <td>3</td>\n",
       "      <td>4.000</td>\n",
       "      <td>1999-12-11 13:36:47</td>\n",
       "    </tr>\n",
       "    <tr>\n",
       "      <th>1</th>\n",
       "      <td>1</td>\n",
       "      <td>Toy Story (1995)</td>\n",
       "      <td>Adventure|Animation|Children|Comedy|Fantasy</td>\n",
       "      <td>6</td>\n",
       "      <td>5.000</td>\n",
       "      <td>1997-03-13 17:50:52</td>\n",
       "    </tr>\n",
       "    <tr>\n",
       "      <th>2</th>\n",
       "      <td>1</td>\n",
       "      <td>Toy Story (1995)</td>\n",
       "      <td>Adventure|Animation|Children|Comedy|Fantasy</td>\n",
       "      <td>8</td>\n",
       "      <td>4.000</td>\n",
       "      <td>1996-06-05 13:37:51</td>\n",
       "    </tr>\n",
       "    <tr>\n",
       "      <th>3</th>\n",
       "      <td>1</td>\n",
       "      <td>Toy Story (1995)</td>\n",
       "      <td>Adventure|Animation|Children|Comedy|Fantasy</td>\n",
       "      <td>10</td>\n",
       "      <td>4.000</td>\n",
       "      <td>1999-11-25 02:44:47</td>\n",
       "    </tr>\n",
       "    <tr>\n",
       "      <th>4</th>\n",
       "      <td>1</td>\n",
       "      <td>Toy Story (1995)</td>\n",
       "      <td>Adventure|Animation|Children|Comedy|Fantasy</td>\n",
       "      <td>11</td>\n",
       "      <td>4.500</td>\n",
       "      <td>2009-01-02 01:13:41</td>\n",
       "    </tr>\n",
       "  </tbody>\n",
       "</table>\n",
       "</div>"
      ],
      "text/plain": [
       "   movieId             title                                       genres  userId  rating            timestamp\n",
       "0        1  Toy Story (1995)  Adventure|Animation|Children|Comedy|Fantasy       3   4.000  1999-12-11 13:36:47\n",
       "1        1  Toy Story (1995)  Adventure|Animation|Children|Comedy|Fantasy       6   5.000  1997-03-13 17:50:52\n",
       "2        1  Toy Story (1995)  Adventure|Animation|Children|Comedy|Fantasy       8   4.000  1996-06-05 13:37:51\n",
       "3        1  Toy Story (1995)  Adventure|Animation|Children|Comedy|Fantasy      10   4.000  1999-11-25 02:44:47\n",
       "4        1  Toy Story (1995)  Adventure|Animation|Children|Comedy|Fantasy      11   4.500  2009-01-02 01:13:41"
      ]
     },
     "execution_count": 4,
     "metadata": {},
     "output_type": "execute_result"
    }
   ],
   "source": [
    "# Merging two dataframes\n",
    "df = pd.merge(movie,rating, how=\"inner\", on=\"movieId\")\n",
    "df.head()"
   ]
  },
  {
   "cell_type": "markdown",
   "id": "8c9387aa",
   "metadata": {
    "papermill": {
     "duration": 0.019974,
     "end_time": "2024-09-27T14:21:41.848017",
     "exception": false,
     "start_time": "2024-09-27T14:21:41.828043",
     "status": "completed"
    },
    "tags": []
   },
   "source": [
    "*The number of ratings for each movie*"
   ]
  },
  {
   "cell_type": "code",
   "execution_count": 5,
   "id": "558036f4",
   "metadata": {
    "execution": {
     "iopub.execute_input": "2024-09-27T14:21:41.884795Z",
     "iopub.status.busy": "2024-09-27T14:21:41.884286Z",
     "iopub.status.idle": "2024-09-27T14:21:44.672562Z",
     "shell.execute_reply": "2024-09-27T14:21:44.671142Z"
    },
    "papermill": {
     "duration": 2.809939,
     "end_time": "2024-09-27T14:21:44.675238",
     "exception": false,
     "start_time": "2024-09-27T14:21:41.865299",
     "status": "completed"
    },
    "tags": []
   },
   "outputs": [
    {
     "name": "stdout",
     "output_type": "stream",
     "text": [
      "title\n",
      "Pulp Fiction (1994)                                67310\n",
      "Forrest Gump (1994)                                66172\n",
      "Shawshank Redemption, The (1994)                   63366\n",
      "Silence of the Lambs, The (1991)                   63299\n",
      "Jurassic Park (1993)                               59715\n",
      "                                                   ...  \n",
      "Easy Wheels (1989)                                     1\n",
      "Ditirambo (1969)                                       1\n",
      "Scorching Winds (Garm Hava) (Garam Hawa) (1974)        1\n",
      "Serrallonga (2008)                                     1\n",
      "Innocence (2014)                                       1\n",
      "Name: count, Length: 26729, dtype: int64\n"
     ]
    }
   ],
   "source": [
    "rating_counts = df[\"title\"].value_counts()\n",
    "print(rating_counts)"
   ]
  },
  {
   "cell_type": "markdown",
   "id": "a89d8ca6",
   "metadata": {
    "papermill": {
     "duration": 0.017032,
     "end_time": "2024-09-27T14:21:44.709358",
     "exception": false,
     "start_time": "2024-09-27T14:21:44.692326",
     "status": "completed"
    },
    "tags": []
   },
   "source": [
    "**Assigning movies with a low number of ratings (less than or equal 1000) to a variable**"
   ]
  },
  {
   "cell_type": "code",
   "execution_count": 6,
   "id": "623202aa",
   "metadata": {
    "execution": {
     "iopub.execute_input": "2024-09-27T14:21:44.746087Z",
     "iopub.status.busy": "2024-09-27T14:21:44.744750Z",
     "iopub.status.idle": "2024-09-27T14:21:44.757705Z",
     "shell.execute_reply": "2024-09-27T14:21:44.756371Z"
    },
    "papermill": {
     "duration": 0.03406,
     "end_time": "2024-09-27T14:21:44.760373",
     "exception": false,
     "start_time": "2024-09-27T14:21:44.726313",
     "status": "completed"
    },
    "tags": []
   },
   "outputs": [
    {
     "name": "stdout",
     "output_type": "stream",
     "text": [
      "Index(['Rosewood (1997)', 'One Night at McCool's (2001)', 'Ted (2012)', 'Bear, The (Ours, L') (1988)', 'Marked for Death (1990)', 'Adam's Rib (1949)', 'Three to Tango (1999)', 'Stakeout (1987)', 'I Now Pronounce You Chuck and Larry (2007)', 'Someone Like You (2001)',\n",
      "       ...\n",
      "       'Expert, The (1995)', 'Goliath Awaits (1981)', 'Short Eyes (1977)', 'Restless Souls (Bag det stille ydre) (2005)', 'Cold Trail (Köld slóð) (2006)', 'Easy Wheels (1989)', 'Ditirambo (1969)', 'Scorching Winds (Garm Hava) (Garam Hawa) (1974)', 'Serrallonga (2008)', 'Innocence (2014)'], dtype='object', name='title', length=23570)\n"
     ]
    }
   ],
   "source": [
    "rare_movies = rating_counts[rating_counts <= 1000].index\n",
    "print(rare_movies)"
   ]
  },
  {
   "cell_type": "markdown",
   "id": "224d4558",
   "metadata": {
    "papermill": {
     "duration": 0.016818,
     "end_time": "2024-09-27T14:21:44.794393",
     "exception": false,
     "start_time": "2024-09-27T14:21:44.777575",
     "status": "completed"
    },
    "tags": []
   },
   "source": [
    "Assigning movies with a high number of ratings (more than 1000) to a variable"
   ]
  },
  {
   "cell_type": "code",
   "execution_count": 7,
   "id": "b5af9cdc",
   "metadata": {
    "execution": {
     "iopub.execute_input": "2024-09-27T14:21:44.831341Z",
     "iopub.status.busy": "2024-09-27T14:21:44.830863Z",
     "iopub.status.idle": "2024-09-27T14:21:48.891452Z",
     "shell.execute_reply": "2024-09-27T14:21:48.890302Z"
    },
    "papermill": {
     "duration": 4.082581,
     "end_time": "2024-09-27T14:21:48.894226",
     "exception": false,
     "start_time": "2024-09-27T14:21:44.811645",
     "status": "completed"
    },
    "tags": []
   },
   "outputs": [],
   "source": [
    "common_movies = df[~df[\"title\"].isin(rare_movies)]"
   ]
  },
  {
   "cell_type": "markdown",
   "id": "55fa44fa",
   "metadata": {
    "papermill": {
     "duration": 0.016929,
     "end_time": "2024-09-27T14:21:48.928926",
     "exception": false,
     "start_time": "2024-09-27T14:21:48.911997",
     "status": "completed"
    },
    "tags": []
   },
   "source": [
    "**USER-BASED RECOMMENDATION**"
   ]
  },
  {
   "cell_type": "markdown",
   "id": "2b01747b",
   "metadata": {
    "papermill": {
     "duration": 0.016776,
     "end_time": "2024-09-27T14:21:48.962865",
     "exception": false,
     "start_time": "2024-09-27T14:21:48.946089",
     "status": "completed"
    },
    "tags": []
   },
   "source": [
    "**Creating user-movie matrix**"
   ]
  },
  {
   "cell_type": "code",
   "execution_count": 8,
   "id": "95e51726",
   "metadata": {
    "execution": {
     "iopub.execute_input": "2024-09-27T14:21:48.999655Z",
     "iopub.status.busy": "2024-09-27T14:21:48.999245Z",
     "iopub.status.idle": "2024-09-27T14:22:12.524796Z",
     "shell.execute_reply": "2024-09-27T14:22:12.523617Z"
    },
    "papermill": {
     "duration": 23.546951,
     "end_time": "2024-09-27T14:22:12.527277",
     "exception": false,
     "start_time": "2024-09-27T14:21:48.980326",
     "status": "completed"
    },
    "tags": []
   },
   "outputs": [
    {
     "data": {
      "text/html": [
       "<div>\n",
       "<style scoped>\n",
       "    .dataframe tbody tr th:only-of-type {\n",
       "        vertical-align: middle;\n",
       "    }\n",
       "\n",
       "    .dataframe tbody tr th {\n",
       "        vertical-align: top;\n",
       "    }\n",
       "\n",
       "    .dataframe thead th {\n",
       "        text-align: right;\n",
       "    }\n",
       "</style>\n",
       "<table border=\"1\" class=\"dataframe\">\n",
       "  <thead>\n",
       "    <tr style=\"text-align: right;\">\n",
       "      <th>title</th>\n",
       "      <th>'burbs, The (1989)</th>\n",
       "      <th>(500) Days of Summer (2009)</th>\n",
       "      <th>*batteries not included (1987)</th>\n",
       "      <th>...And Justice for All (1979)</th>\n",
       "      <th>10 Things I Hate About You (1999)</th>\n",
       "      <th>...</th>\n",
       "      <th>Zulu (1964)</th>\n",
       "      <th>[REC] (2007)</th>\n",
       "      <th>eXistenZ (1999)</th>\n",
       "      <th>xXx (2002)</th>\n",
       "      <th>¡Three Amigos! (1986)</th>\n",
       "    </tr>\n",
       "    <tr>\n",
       "      <th>userId</th>\n",
       "      <th></th>\n",
       "      <th></th>\n",
       "      <th></th>\n",
       "      <th></th>\n",
       "      <th></th>\n",
       "      <th></th>\n",
       "      <th></th>\n",
       "      <th></th>\n",
       "      <th></th>\n",
       "      <th></th>\n",
       "      <th></th>\n",
       "    </tr>\n",
       "  </thead>\n",
       "  <tbody>\n",
       "    <tr>\n",
       "      <th>1</th>\n",
       "      <td>NaN</td>\n",
       "      <td>NaN</td>\n",
       "      <td>NaN</td>\n",
       "      <td>NaN</td>\n",
       "      <td>NaN</td>\n",
       "      <td>...</td>\n",
       "      <td>NaN</td>\n",
       "      <td>NaN</td>\n",
       "      <td>NaN</td>\n",
       "      <td>NaN</td>\n",
       "      <td>NaN</td>\n",
       "    </tr>\n",
       "    <tr>\n",
       "      <th>2</th>\n",
       "      <td>NaN</td>\n",
       "      <td>NaN</td>\n",
       "      <td>NaN</td>\n",
       "      <td>NaN</td>\n",
       "      <td>NaN</td>\n",
       "      <td>...</td>\n",
       "      <td>NaN</td>\n",
       "      <td>NaN</td>\n",
       "      <td>NaN</td>\n",
       "      <td>NaN</td>\n",
       "      <td>NaN</td>\n",
       "    </tr>\n",
       "    <tr>\n",
       "      <th>3</th>\n",
       "      <td>NaN</td>\n",
       "      <td>NaN</td>\n",
       "      <td>NaN</td>\n",
       "      <td>NaN</td>\n",
       "      <td>NaN</td>\n",
       "      <td>...</td>\n",
       "      <td>NaN</td>\n",
       "      <td>NaN</td>\n",
       "      <td>NaN</td>\n",
       "      <td>NaN</td>\n",
       "      <td>NaN</td>\n",
       "    </tr>\n",
       "    <tr>\n",
       "      <th>4</th>\n",
       "      <td>NaN</td>\n",
       "      <td>NaN</td>\n",
       "      <td>NaN</td>\n",
       "      <td>NaN</td>\n",
       "      <td>NaN</td>\n",
       "      <td>...</td>\n",
       "      <td>NaN</td>\n",
       "      <td>NaN</td>\n",
       "      <td>NaN</td>\n",
       "      <td>NaN</td>\n",
       "      <td>NaN</td>\n",
       "    </tr>\n",
       "    <tr>\n",
       "      <th>5</th>\n",
       "      <td>NaN</td>\n",
       "      <td>NaN</td>\n",
       "      <td>NaN</td>\n",
       "      <td>NaN</td>\n",
       "      <td>NaN</td>\n",
       "      <td>...</td>\n",
       "      <td>NaN</td>\n",
       "      <td>NaN</td>\n",
       "      <td>NaN</td>\n",
       "      <td>NaN</td>\n",
       "      <td>NaN</td>\n",
       "    </tr>\n",
       "  </tbody>\n",
       "</table>\n",
       "<p>5 rows × 3159 columns</p>\n",
       "</div>"
      ],
      "text/plain": [
       "title   'burbs, The (1989)  (500) Days of Summer (2009)  *batteries not included (1987)  ...And Justice for All (1979)  10 Things I Hate About You (1999)  ...  Zulu (1964)  [REC] (2007)  eXistenZ (1999)  xXx (2002)  ¡Three Amigos! (1986)\n",
       "userId                                                                                                                                                     ...                                                                               \n",
       "1                      NaN                          NaN                             NaN                            NaN                                NaN  ...          NaN           NaN              NaN         NaN                    NaN\n",
       "2                      NaN                          NaN                             NaN                            NaN                                NaN  ...          NaN           NaN              NaN         NaN                    NaN\n",
       "3                      NaN                          NaN                             NaN                            NaN                                NaN  ...          NaN           NaN              NaN         NaN                    NaN\n",
       "4                      NaN                          NaN                             NaN                            NaN                                NaN  ...          NaN           NaN              NaN         NaN                    NaN\n",
       "5                      NaN                          NaN                             NaN                            NaN                                NaN  ...          NaN           NaN              NaN         NaN                    NaN\n",
       "\n",
       "[5 rows x 3159 columns]"
      ]
     },
     "execution_count": 8,
     "metadata": {},
     "output_type": "execute_result"
    }
   ],
   "source": [
    "user_movie_df = common_movies.pivot_table(index=\"userId\",columns=\"title\",values=\"rating\")\n",
    "user_movie_df.head()"
   ]
  },
  {
   "cell_type": "markdown",
   "id": "bf4fa2cf",
   "metadata": {
    "papermill": {
     "duration": 0.017285,
     "end_time": "2024-09-27T14:22:12.562045",
     "exception": false,
     "start_time": "2024-09-27T14:22:12.544760",
     "status": "completed"
    },
    "tags": []
   },
   "source": [
    "*Creating random user*"
   ]
  },
  {
   "cell_type": "code",
   "execution_count": 9,
   "id": "7c93d531",
   "metadata": {
    "execution": {
     "iopub.execute_input": "2024-09-27T14:22:12.598918Z",
     "iopub.status.busy": "2024-09-27T14:22:12.598465Z",
     "iopub.status.idle": "2024-09-27T14:22:12.611818Z",
     "shell.execute_reply": "2024-09-27T14:22:12.610571Z"
    },
    "papermill": {
     "duration": 0.034882,
     "end_time": "2024-09-27T14:22:12.614309",
     "exception": false,
     "start_time": "2024-09-27T14:22:12.579427",
     "status": "completed"
    },
    "tags": []
   },
   "outputs": [
    {
     "name": "stdout",
     "output_type": "stream",
     "text": [
      "28941\n"
     ]
    }
   ],
   "source": [
    "random_user = user_movie_df.sample(1,random_state=45).index[0]\n",
    "print(random_user)"
   ]
  },
  {
   "cell_type": "markdown",
   "id": "d55f4ba0",
   "metadata": {
    "papermill": {
     "duration": 0.017317,
     "end_time": "2024-09-27T14:22:12.649391",
     "exception": false,
     "start_time": "2024-09-27T14:22:12.632074",
     "status": "completed"
    },
    "tags": []
   },
   "source": [
    "*Creating random user DF*"
   ]
  },
  {
   "cell_type": "code",
   "execution_count": 10,
   "id": "aa10b6cd",
   "metadata": {
    "execution": {
     "iopub.execute_input": "2024-09-27T14:22:12.688116Z",
     "iopub.status.busy": "2024-09-27T14:22:12.686732Z",
     "iopub.status.idle": "2024-09-27T14:22:12.703641Z",
     "shell.execute_reply": "2024-09-27T14:22:12.702359Z"
    },
    "papermill": {
     "duration": 0.039067,
     "end_time": "2024-09-27T14:22:12.706206",
     "exception": false,
     "start_time": "2024-09-27T14:22:12.667139",
     "status": "completed"
    },
    "tags": []
   },
   "outputs": [
    {
     "data": {
      "text/html": [
       "<div>\n",
       "<style scoped>\n",
       "    .dataframe tbody tr th:only-of-type {\n",
       "        vertical-align: middle;\n",
       "    }\n",
       "\n",
       "    .dataframe tbody tr th {\n",
       "        vertical-align: top;\n",
       "    }\n",
       "\n",
       "    .dataframe thead th {\n",
       "        text-align: right;\n",
       "    }\n",
       "</style>\n",
       "<table border=\"1\" class=\"dataframe\">\n",
       "  <thead>\n",
       "    <tr style=\"text-align: right;\">\n",
       "      <th>title</th>\n",
       "      <th>'burbs, The (1989)</th>\n",
       "      <th>(500) Days of Summer (2009)</th>\n",
       "      <th>*batteries not included (1987)</th>\n",
       "      <th>...And Justice for All (1979)</th>\n",
       "      <th>10 Things I Hate About You (1999)</th>\n",
       "      <th>...</th>\n",
       "      <th>Zulu (1964)</th>\n",
       "      <th>[REC] (2007)</th>\n",
       "      <th>eXistenZ (1999)</th>\n",
       "      <th>xXx (2002)</th>\n",
       "      <th>¡Three Amigos! (1986)</th>\n",
       "    </tr>\n",
       "    <tr>\n",
       "      <th>userId</th>\n",
       "      <th></th>\n",
       "      <th></th>\n",
       "      <th></th>\n",
       "      <th></th>\n",
       "      <th></th>\n",
       "      <th></th>\n",
       "      <th></th>\n",
       "      <th></th>\n",
       "      <th></th>\n",
       "      <th></th>\n",
       "      <th></th>\n",
       "    </tr>\n",
       "  </thead>\n",
       "  <tbody>\n",
       "    <tr>\n",
       "      <th>28941</th>\n",
       "      <td>NaN</td>\n",
       "      <td>NaN</td>\n",
       "      <td>NaN</td>\n",
       "      <td>NaN</td>\n",
       "      <td>NaN</td>\n",
       "      <td>...</td>\n",
       "      <td>NaN</td>\n",
       "      <td>NaN</td>\n",
       "      <td>NaN</td>\n",
       "      <td>NaN</td>\n",
       "      <td>NaN</td>\n",
       "    </tr>\n",
       "  </tbody>\n",
       "</table>\n",
       "<p>1 rows × 3159 columns</p>\n",
       "</div>"
      ],
      "text/plain": [
       "title   'burbs, The (1989)  (500) Days of Summer (2009)  *batteries not included (1987)  ...And Justice for All (1979)  10 Things I Hate About You (1999)  ...  Zulu (1964)  [REC] (2007)  eXistenZ (1999)  xXx (2002)  ¡Three Amigos! (1986)\n",
       "userId                                                                                                                                                     ...                                                                               \n",
       "28941                  NaN                          NaN                             NaN                            NaN                                NaN  ...          NaN           NaN              NaN         NaN                    NaN\n",
       "\n",
       "[1 rows x 3159 columns]"
      ]
     },
     "execution_count": 10,
     "metadata": {},
     "output_type": "execute_result"
    }
   ],
   "source": [
    "random_user_df = user_movie_df[user_movie_df.index==random_user]\n",
    "random_user_df.head()"
   ]
  },
  {
   "cell_type": "markdown",
   "id": "da1badb5",
   "metadata": {
    "papermill": {
     "duration": 0.017677,
     "end_time": "2024-09-27T14:22:12.742114",
     "exception": false,
     "start_time": "2024-09-27T14:22:12.724437",
     "status": "completed"
    },
    "tags": []
   },
   "source": [
    "*Creating a DataFrame list of the movies watched by a random user*"
   ]
  },
  {
   "cell_type": "code",
   "execution_count": 11,
   "id": "80048262",
   "metadata": {
    "execution": {
     "iopub.execute_input": "2024-09-27T14:22:12.780143Z",
     "iopub.status.busy": "2024-09-27T14:22:12.779196Z",
     "iopub.status.idle": "2024-09-27T14:22:12.787094Z",
     "shell.execute_reply": "2024-09-27T14:22:12.785822Z"
    },
    "papermill": {
     "duration": 0.029566,
     "end_time": "2024-09-27T14:22:12.789558",
     "exception": false,
     "start_time": "2024-09-27T14:22:12.759992",
     "status": "completed"
    },
    "tags": []
   },
   "outputs": [
    {
     "name": "stdout",
     "output_type": "stream",
     "text": [
      "['Ace Ventura: Pet Detective (1994)', 'Ace Ventura: When Nature Calls (1995)', 'Aladdin (1992)', 'American President, The (1995)', 'Apollo 13 (1995)', 'Babe (1995)', 'Bullets Over Broadway (1994)', 'Clueless (1995)', 'Disclosure (1994)', 'Forrest Gump (1994)', 'Four Weddings and a Funeral (1994)', 'Home Alone (1990)', 'Jurassic Park (1993)', 'Like Water for Chocolate (Como agua para chocolate) (1992)', 'Little Women (1994)', \"Mr. Holland's Opus (1995)\", 'Mrs. Doubtfire (1993)', 'Much Ado About Nothing (1993)', \"Muriel's Wedding (1994)\", 'Nine Months (1995)', 'Operation Dumbo Drop (1995)', 'Piano, The (1993)', 'Postman, The (Postino, Il) (1994)', 'Ready to Wear (Pret-A-Porter) (1994)', 'Remains of the Day, The (1993)', 'Sabrina (1995)', \"Schindler's List (1993)\", 'Secret Garden, The (1993)', 'Sense and Sensibility (1995)', 'Shadowlands (1993)', 'Silence of the Lambs, The (1991)', 'Star Trek: Generations (1994)', 'Stargate (1994)']\n"
     ]
    }
   ],
   "source": [
    "movies_watched = random_user_df.dropna(axis=1).columns.tolist()\n",
    "print(movies_watched)"
   ]
  },
  {
   "cell_type": "markdown",
   "id": "7df783fd",
   "metadata": {
    "papermill": {
     "duration": 0.017593,
     "end_time": "2024-09-27T14:22:12.825128",
     "exception": false,
     "start_time": "2024-09-27T14:22:12.807535",
     "status": "completed"
    },
    "tags": []
   },
   "source": [
    "*The movies that are watched by random user*"
   ]
  },
  {
   "cell_type": "code",
   "execution_count": 12,
   "id": "d52c42e6",
   "metadata": {
    "execution": {
     "iopub.execute_input": "2024-09-27T14:22:12.862758Z",
     "iopub.status.busy": "2024-09-27T14:22:12.862336Z",
     "iopub.status.idle": "2024-09-27T14:22:12.889157Z",
     "shell.execute_reply": "2024-09-27T14:22:12.887721Z"
    },
    "papermill": {
     "duration": 0.048659,
     "end_time": "2024-09-27T14:22:12.891539",
     "exception": false,
     "start_time": "2024-09-27T14:22:12.842880",
     "status": "completed"
    },
    "tags": []
   },
   "outputs": [
    {
     "name": "stdout",
     "output_type": "stream",
     "text": [
      "126205                            Sabrina (1995)\n",
      "174539            American President, The (1995)\n",
      "225036              Sense and Sensibility (1995)\n",
      "250835     Ace Ventura: When Nature Calls (1995)\n",
      "417968                               Babe (1995)\n",
      "                           ...                  \n",
      "3559898                       Shadowlands (1993)\n",
      "3776293                        Home Alone (1990)\n",
      "3836848                           Aladdin (1992)\n",
      "4025787         Silence of the Lambs, The (1991)\n",
      "4392992              Operation Dumbo Drop (1995)\n",
      "Name: title, Length: 33, dtype: object\n"
     ]
    }
   ],
   "source": [
    "random_user_watched_ids = common_movies[\"title\"][(common_movies[\"userId\"]==random_user)]\n",
    "print(random_user_watched_ids)"
   ]
  },
  {
   "cell_type": "code",
   "execution_count": 13,
   "id": "7e775379",
   "metadata": {
    "execution": {
     "iopub.execute_input": "2024-09-27T14:22:12.930101Z",
     "iopub.status.busy": "2024-09-27T14:22:12.929024Z",
     "iopub.status.idle": "2024-09-27T14:22:12.954759Z",
     "shell.execute_reply": "2024-09-27T14:22:12.953629Z"
    },
    "papermill": {
     "duration": 0.047812,
     "end_time": "2024-09-27T14:22:12.957377",
     "exception": false,
     "start_time": "2024-09-27T14:22:12.909565",
     "status": "completed"
    },
    "tags": []
   },
   "outputs": [
    {
     "data": {
      "text/html": [
       "<div>\n",
       "<style scoped>\n",
       "    .dataframe tbody tr th:only-of-type {\n",
       "        vertical-align: middle;\n",
       "    }\n",
       "\n",
       "    .dataframe tbody tr th {\n",
       "        vertical-align: top;\n",
       "    }\n",
       "\n",
       "    .dataframe thead th {\n",
       "        text-align: right;\n",
       "    }\n",
       "</style>\n",
       "<table border=\"1\" class=\"dataframe\">\n",
       "  <thead>\n",
       "    <tr style=\"text-align: right;\">\n",
       "      <th>title</th>\n",
       "      <th>Ace Ventura: Pet Detective (1994)</th>\n",
       "      <th>Ace Ventura: When Nature Calls (1995)</th>\n",
       "      <th>Aladdin (1992)</th>\n",
       "      <th>American President, The (1995)</th>\n",
       "      <th>Apollo 13 (1995)</th>\n",
       "      <th>...</th>\n",
       "      <th>Sense and Sensibility (1995)</th>\n",
       "      <th>Shadowlands (1993)</th>\n",
       "      <th>Silence of the Lambs, The (1991)</th>\n",
       "      <th>Star Trek: Generations (1994)</th>\n",
       "      <th>Stargate (1994)</th>\n",
       "    </tr>\n",
       "    <tr>\n",
       "      <th>userId</th>\n",
       "      <th></th>\n",
       "      <th></th>\n",
       "      <th></th>\n",
       "      <th></th>\n",
       "      <th></th>\n",
       "      <th></th>\n",
       "      <th></th>\n",
       "      <th></th>\n",
       "      <th></th>\n",
       "      <th></th>\n",
       "      <th></th>\n",
       "    </tr>\n",
       "  </thead>\n",
       "  <tbody>\n",
       "    <tr>\n",
       "      <th>1</th>\n",
       "      <td>NaN</td>\n",
       "      <td>NaN</td>\n",
       "      <td>NaN</td>\n",
       "      <td>NaN</td>\n",
       "      <td>NaN</td>\n",
       "      <td>...</td>\n",
       "      <td>NaN</td>\n",
       "      <td>NaN</td>\n",
       "      <td>3.500</td>\n",
       "      <td>NaN</td>\n",
       "      <td>NaN</td>\n",
       "    </tr>\n",
       "    <tr>\n",
       "      <th>2</th>\n",
       "      <td>NaN</td>\n",
       "      <td>NaN</td>\n",
       "      <td>NaN</td>\n",
       "      <td>NaN</td>\n",
       "      <td>NaN</td>\n",
       "      <td>...</td>\n",
       "      <td>NaN</td>\n",
       "      <td>NaN</td>\n",
       "      <td>NaN</td>\n",
       "      <td>NaN</td>\n",
       "      <td>NaN</td>\n",
       "    </tr>\n",
       "    <tr>\n",
       "      <th>3</th>\n",
       "      <td>NaN</td>\n",
       "      <td>NaN</td>\n",
       "      <td>NaN</td>\n",
       "      <td>NaN</td>\n",
       "      <td>NaN</td>\n",
       "      <td>...</td>\n",
       "      <td>NaN</td>\n",
       "      <td>NaN</td>\n",
       "      <td>5.000</td>\n",
       "      <td>5.000</td>\n",
       "      <td>5.000</td>\n",
       "    </tr>\n",
       "    <tr>\n",
       "      <th>4</th>\n",
       "      <td>NaN</td>\n",
       "      <td>3.000</td>\n",
       "      <td>NaN</td>\n",
       "      <td>NaN</td>\n",
       "      <td>NaN</td>\n",
       "      <td>...</td>\n",
       "      <td>NaN</td>\n",
       "      <td>NaN</td>\n",
       "      <td>NaN</td>\n",
       "      <td>3.000</td>\n",
       "      <td>NaN</td>\n",
       "    </tr>\n",
       "    <tr>\n",
       "      <th>5</th>\n",
       "      <td>NaN</td>\n",
       "      <td>NaN</td>\n",
       "      <td>5.000</td>\n",
       "      <td>5.000</td>\n",
       "      <td>5.000</td>\n",
       "      <td>...</td>\n",
       "      <td>3.000</td>\n",
       "      <td>NaN</td>\n",
       "      <td>3.000</td>\n",
       "      <td>NaN</td>\n",
       "      <td>4.000</td>\n",
       "    </tr>\n",
       "  </tbody>\n",
       "</table>\n",
       "<p>5 rows × 33 columns</p>\n",
       "</div>"
      ],
      "text/plain": [
       "title   Ace Ventura: Pet Detective (1994)  Ace Ventura: When Nature Calls (1995)  Aladdin (1992)  American President, The (1995)  Apollo 13 (1995)  ...  Sense and Sensibility (1995)  Shadowlands (1993)  Silence of the Lambs, The (1991)  Star Trek: Generations (1994)  Stargate (1994)\n",
       "userId                                                                                                                                              ...                                                                                                                                    \n",
       "1                                     NaN                                    NaN             NaN                             NaN               NaN  ...                           NaN                 NaN                             3.500                            NaN              NaN\n",
       "2                                     NaN                                    NaN             NaN                             NaN               NaN  ...                           NaN                 NaN                               NaN                            NaN              NaN\n",
       "3                                     NaN                                    NaN             NaN                             NaN               NaN  ...                           NaN                 NaN                             5.000                          5.000            5.000\n",
       "4                                     NaN                                  3.000             NaN                             NaN               NaN  ...                           NaN                 NaN                               NaN                          3.000              NaN\n",
       "5                                     NaN                                    NaN           5.000                           5.000             5.000  ...                         3.000                 NaN                             3.000                            NaN            4.000\n",
       "\n",
       "[5 rows x 33 columns]"
      ]
     },
     "execution_count": 13,
     "metadata": {},
     "output_type": "execute_result"
    }
   ],
   "source": [
    "movies_watched_df = user_movie_df[movies_watched]\n",
    "movies_watched_df.head()"
   ]
  },
  {
   "cell_type": "markdown",
   "id": "1d44297f",
   "metadata": {
    "papermill": {
     "duration": 0.018585,
     "end_time": "2024-09-27T14:22:12.994608",
     "exception": false,
     "start_time": "2024-09-27T14:22:12.976023",
     "status": "completed"
    },
    "tags": []
   },
   "source": [
    "*IDs of the users who watched the movies that a random user has watched, and the number of movies they have watched*"
   ]
  },
  {
   "cell_type": "code",
   "execution_count": 14,
   "id": "ec40ad26",
   "metadata": {
    "execution": {
     "iopub.execute_input": "2024-09-27T14:22:13.034291Z",
     "iopub.status.busy": "2024-09-27T14:22:13.033862Z",
     "iopub.status.idle": "2024-09-27T14:22:13.089330Z",
     "shell.execute_reply": "2024-09-27T14:22:13.088271Z"
    },
    "papermill": {
     "duration": 0.078385,
     "end_time": "2024-09-27T14:22:13.091985",
     "exception": false,
     "start_time": "2024-09-27T14:22:13.013600",
     "status": "completed"
    },
    "tags": []
   },
   "outputs": [
    {
     "data": {
      "text/plain": [
       "userId\n",
       "100399    33\n",
       "8405      33\n",
       "46663     33\n",
       "76630     33\n",
       "81218     33\n",
       "dtype: int64"
      ]
     },
     "execution_count": 14,
     "metadata": {},
     "output_type": "execute_result"
    }
   ],
   "source": [
    "user_movie_count = movies_watched_df.notnull().sum(axis=1)\n",
    "user_movie_count.sort_values(ascending=False).head()"
   ]
  },
  {
   "cell_type": "markdown",
   "id": "a602910e",
   "metadata": {
    "papermill": {
     "duration": 0.018235,
     "end_time": "2024-09-27T14:22:13.129030",
     "exception": false,
     "start_time": "2024-09-27T14:22:13.110795",
     "status": "completed"
    },
    "tags": []
   },
   "source": [
    "*Index and ID information of users who have watched at least 60% of the movies that a random user has watched*"
   ]
  },
  {
   "cell_type": "code",
   "execution_count": 15,
   "id": "fd6c8247",
   "metadata": {
    "execution": {
     "iopub.execute_input": "2024-09-27T14:22:13.168998Z",
     "iopub.status.busy": "2024-09-27T14:22:13.168132Z",
     "iopub.status.idle": "2024-09-27T14:22:13.176758Z",
     "shell.execute_reply": "2024-09-27T14:22:13.175530Z"
    },
    "papermill": {
     "duration": 0.031316,
     "end_time": "2024-09-27T14:22:13.179262",
     "exception": false,
     "start_time": "2024-09-27T14:22:13.147946",
     "status": "completed"
    },
    "tags": []
   },
   "outputs": [
    {
     "name": "stdout",
     "output_type": "stream",
     "text": [
      "Index([    91,    130,    156,    158,    160,    184,    294,    295,    298,    309,\n",
      "       ...\n",
      "       137885, 137949, 137976, 138019, 138162, 138208, 138279, 138382, 138415, 138483], dtype='int64', name='userId', length=4139)\n"
     ]
    }
   ],
   "source": [
    "users_same_movies = user_movie_count[user_movie_count > (movies_watched_df.shape[1] * 60 ) / 100].index\n",
    "print(users_same_movies)"
   ]
  },
  {
   "cell_type": "markdown",
   "id": "3fa4a788",
   "metadata": {
    "papermill": {
     "duration": 0.018447,
     "end_time": "2024-09-27T14:22:13.216459",
     "exception": false,
     "start_time": "2024-09-27T14:22:13.198012",
     "status": "completed"
    },
    "tags": []
   },
   "source": [
    "*Filtering the movies_watched_df for selecting similar users*"
   ]
  },
  {
   "cell_type": "code",
   "execution_count": 16,
   "id": "da1e9e29",
   "metadata": {
    "execution": {
     "iopub.execute_input": "2024-09-27T14:22:13.255930Z",
     "iopub.status.busy": "2024-09-27T14:22:13.255471Z",
     "iopub.status.idle": "2024-09-27T14:22:13.266270Z",
     "shell.execute_reply": "2024-09-27T14:22:13.265284Z"
    },
    "papermill": {
     "duration": 0.033434,
     "end_time": "2024-09-27T14:22:13.268813",
     "exception": false,
     "start_time": "2024-09-27T14:22:13.235379",
     "status": "completed"
    },
    "tags": []
   },
   "outputs": [],
   "source": [
    "final_df = movies_watched_df[movies_watched_df.index.isin(users_same_movies)]"
   ]
  },
  {
   "cell_type": "markdown",
   "id": "f7ce075c",
   "metadata": {
    "papermill": {
     "duration": 0.024172,
     "end_time": "2024-09-27T14:22:13.311850",
     "exception": false,
     "start_time": "2024-09-27T14:22:13.287678",
     "status": "completed"
    },
    "tags": []
   },
   "source": [
    "*Creating Correlation DF*"
   ]
  },
  {
   "cell_type": "code",
   "execution_count": 17,
   "id": "6c016f27",
   "metadata": {
    "execution": {
     "iopub.execute_input": "2024-09-27T14:22:13.361825Z",
     "iopub.status.busy": "2024-09-27T14:22:13.361395Z",
     "iopub.status.idle": "2024-09-27T14:22:18.303023Z",
     "shell.execute_reply": "2024-09-27T14:22:18.301730Z"
    },
    "papermill": {
     "duration": 4.96842,
     "end_time": "2024-09-27T14:22:18.305652",
     "exception": false,
     "start_time": "2024-09-27T14:22:13.337232",
     "status": "completed"
    },
    "tags": []
   },
   "outputs": [
    {
     "data": {
      "text/plain": [
       "userId\n",
       "28941     1.000\n",
       "13477     0.802\n",
       "45158     0.801\n",
       "101628    0.790\n",
       "7542      0.772\n",
       "          ...  \n",
       "103594   -0.569\n",
       "22122    -0.586\n",
       "92616    -0.618\n",
       "126388   -0.676\n",
       "92960    -0.691\n",
       "Length: 4139, dtype: float64"
      ]
     },
     "execution_count": 17,
     "metadata": {},
     "output_type": "execute_result"
    }
   ],
   "source": [
    "corr_df = final_df.T.corr().unstack()\n",
    "corr_df[random_user].sort_values(ascending=False)"
   ]
  },
  {
   "cell_type": "markdown",
   "id": "6f21786f",
   "metadata": {
    "papermill": {
     "duration": 0.019055,
     "end_time": "2024-09-27T14:22:18.344221",
     "exception": false,
     "start_time": "2024-09-27T14:22:18.325166",
     "status": "completed"
    },
    "tags": []
   },
   "source": [
    "*Creating Top users/High correlated users df*"
   ]
  },
  {
   "cell_type": "code",
   "execution_count": 18,
   "id": "28080521",
   "metadata": {
    "execution": {
     "iopub.execute_input": "2024-09-27T14:22:18.383796Z",
     "iopub.status.busy": "2024-09-27T14:22:18.383363Z",
     "iopub.status.idle": "2024-09-27T14:22:18.391167Z",
     "shell.execute_reply": "2024-09-27T14:22:18.389955Z"
    },
    "papermill": {
     "duration": 0.030513,
     "end_time": "2024-09-27T14:22:18.393640",
     "exception": false,
     "start_time": "2024-09-27T14:22:18.363127",
     "status": "completed"
    },
    "tags": []
   },
   "outputs": [],
   "source": [
    "top_users = pd.DataFrame(corr_df[random_user][corr_df[random_user] > 0.65], columns=[\"corr\"])"
   ]
  },
  {
   "cell_type": "markdown",
   "id": "bf4034ad",
   "metadata": {
    "papermill": {
     "duration": 0.019546,
     "end_time": "2024-09-27T14:22:18.432154",
     "exception": false,
     "start_time": "2024-09-27T14:22:18.412608",
     "status": "completed"
    },
    "tags": []
   },
   "source": [
    "*Merging top_users with rating*"
   ]
  },
  {
   "cell_type": "code",
   "execution_count": 19,
   "id": "8efbc475",
   "metadata": {
    "execution": {
     "iopub.execute_input": "2024-09-27T14:22:18.471983Z",
     "iopub.status.busy": "2024-09-27T14:22:18.471530Z",
     "iopub.status.idle": "2024-09-27T14:22:19.138564Z",
     "shell.execute_reply": "2024-09-27T14:22:19.137330Z"
    },
    "papermill": {
     "duration": 0.690282,
     "end_time": "2024-09-27T14:22:19.141482",
     "exception": false,
     "start_time": "2024-09-27T14:22:18.451200",
     "status": "completed"
    },
    "tags": []
   },
   "outputs": [],
   "source": [
    "top_users_ratings = pd.merge(top_users, rating[[\"userId\", \"movieId\", \"rating\"]], how='inner', on=\"userId\")\n",
    "\n",
    "top_users_ratings = top_users_ratings[~(top_users_ratings[\"movieId\"].isin(random_user_watched_ids))]"
   ]
  },
  {
   "cell_type": "markdown",
   "id": "f8c5446a",
   "metadata": {
    "papermill": {
     "duration": 0.01849,
     "end_time": "2024-09-27T14:22:19.178929",
     "exception": false,
     "start_time": "2024-09-27T14:22:19.160439",
     "status": "completed"
    },
    "tags": []
   },
   "source": [
    "*Calculating Weighted Average Recommendation Score*"
   ]
  },
  {
   "cell_type": "code",
   "execution_count": 20,
   "id": "51710988",
   "metadata": {
    "execution": {
     "iopub.execute_input": "2024-09-27T14:22:19.218399Z",
     "iopub.status.busy": "2024-09-27T14:22:19.217954Z",
     "iopub.status.idle": "2024-09-27T14:22:19.235927Z",
     "shell.execute_reply": "2024-09-27T14:22:19.234777Z"
    },
    "papermill": {
     "duration": 0.040636,
     "end_time": "2024-09-27T14:22:19.238358",
     "exception": false,
     "start_time": "2024-09-27T14:22:19.197722",
     "status": "completed"
    },
    "tags": []
   },
   "outputs": [
    {
     "data": {
      "text/html": [
       "<div>\n",
       "<style scoped>\n",
       "    .dataframe tbody tr th:only-of-type {\n",
       "        vertical-align: middle;\n",
       "    }\n",
       "\n",
       "    .dataframe tbody tr th {\n",
       "        vertical-align: top;\n",
       "    }\n",
       "\n",
       "    .dataframe thead th {\n",
       "        text-align: right;\n",
       "    }\n",
       "</style>\n",
       "<table border=\"1\" class=\"dataframe\">\n",
       "  <thead>\n",
       "    <tr style=\"text-align: right;\">\n",
       "      <th></th>\n",
       "      <th>userId</th>\n",
       "      <th>corr</th>\n",
       "      <th>movieId</th>\n",
       "      <th>rating</th>\n",
       "      <th>weighted_rating</th>\n",
       "    </tr>\n",
       "  </thead>\n",
       "  <tbody>\n",
       "    <tr>\n",
       "      <th>3433</th>\n",
       "      <td>28941</td>\n",
       "      <td>1.000</td>\n",
       "      <td>534</td>\n",
       "      <td>5.000</td>\n",
       "      <td>5.000</td>\n",
       "    </tr>\n",
       "    <tr>\n",
       "      <th>3429</th>\n",
       "      <td>28941</td>\n",
       "      <td>1.000</td>\n",
       "      <td>509</td>\n",
       "      <td>5.000</td>\n",
       "      <td>5.000</td>\n",
       "    </tr>\n",
       "    <tr>\n",
       "      <th>3422</th>\n",
       "      <td>28941</td>\n",
       "      <td>1.000</td>\n",
       "      <td>344</td>\n",
       "      <td>3.000</td>\n",
       "      <td>3.000</td>\n",
       "    </tr>\n",
       "    <tr>\n",
       "      <th>3423</th>\n",
       "      <td>28941</td>\n",
       "      <td>1.000</td>\n",
       "      <td>348</td>\n",
       "      <td>4.000</td>\n",
       "      <td>4.000</td>\n",
       "    </tr>\n",
       "    <tr>\n",
       "      <th>3424</th>\n",
       "      <td>28941</td>\n",
       "      <td>1.000</td>\n",
       "      <td>356</td>\n",
       "      <td>3.000</td>\n",
       "      <td>3.000</td>\n",
       "    </tr>\n",
       "    <tr>\n",
       "      <th>...</th>\n",
       "      <td>...</td>\n",
       "      <td>...</td>\n",
       "      <td>...</td>\n",
       "      <td>...</td>\n",
       "      <td>...</td>\n",
       "    </tr>\n",
       "    <tr>\n",
       "      <th>19160</th>\n",
       "      <td>105474</td>\n",
       "      <td>0.652</td>\n",
       "      <td>2302</td>\n",
       "      <td>5.000</td>\n",
       "      <td>3.259</td>\n",
       "    </tr>\n",
       "    <tr>\n",
       "      <th>19161</th>\n",
       "      <td>105474</td>\n",
       "      <td>0.652</td>\n",
       "      <td>2312</td>\n",
       "      <td>3.000</td>\n",
       "      <td>1.955</td>\n",
       "    </tr>\n",
       "    <tr>\n",
       "      <th>19162</th>\n",
       "      <td>105474</td>\n",
       "      <td>0.652</td>\n",
       "      <td>2316</td>\n",
       "      <td>5.000</td>\n",
       "      <td>3.259</td>\n",
       "    </tr>\n",
       "    <tr>\n",
       "      <th>19163</th>\n",
       "      <td>105474</td>\n",
       "      <td>0.652</td>\n",
       "      <td>2321</td>\n",
       "      <td>4.000</td>\n",
       "      <td>2.607</td>\n",
       "    </tr>\n",
       "    <tr>\n",
       "      <th>19293</th>\n",
       "      <td>105474</td>\n",
       "      <td>0.652</td>\n",
       "      <td>3450</td>\n",
       "      <td>4.000</td>\n",
       "      <td>2.607</td>\n",
       "    </tr>\n",
       "  </tbody>\n",
       "</table>\n",
       "<p>24315 rows × 5 columns</p>\n",
       "</div>"
      ],
      "text/plain": [
       "       userId  corr  movieId  rating  weighted_rating\n",
       "3433    28941 1.000      534   5.000            5.000\n",
       "3429    28941 1.000      509   5.000            5.000\n",
       "3422    28941 1.000      344   3.000            3.000\n",
       "3423    28941 1.000      348   4.000            4.000\n",
       "3424    28941 1.000      356   3.000            3.000\n",
       "...       ...   ...      ...     ...              ...\n",
       "19160  105474 0.652     2302   5.000            3.259\n",
       "19161  105474 0.652     2312   3.000            1.955\n",
       "19162  105474 0.652     2316   5.000            3.259\n",
       "19163  105474 0.652     2321   4.000            2.607\n",
       "19293  105474 0.652     3450   4.000            2.607\n",
       "\n",
       "[24315 rows x 5 columns]"
      ]
     },
     "execution_count": 20,
     "metadata": {},
     "output_type": "execute_result"
    }
   ],
   "source": [
    "top_users_ratings['weighted_rating'] = top_users_ratings['corr'] * top_users_ratings['rating']\n",
    "\n",
    "top_users_ratings.sort_values(by=\"corr\",ascending=False)"
   ]
  },
  {
   "cell_type": "markdown",
   "id": "5f286935",
   "metadata": {
    "papermill": {
     "duration": 0.019027,
     "end_time": "2024-09-27T14:22:19.277229",
     "exception": false,
     "start_time": "2024-09-27T14:22:19.258202",
     "status": "completed"
    },
    "tags": []
   },
   "source": [
    "*Creating DF includes movie Ids and all user's weighted average ratings*"
   ]
  },
  {
   "cell_type": "code",
   "execution_count": 21,
   "id": "43dd8b65",
   "metadata": {
    "execution": {
     "iopub.execute_input": "2024-09-27T14:22:19.317992Z",
     "iopub.status.busy": "2024-09-27T14:22:19.317544Z",
     "iopub.status.idle": "2024-09-27T14:22:19.335513Z",
     "shell.execute_reply": "2024-09-27T14:22:19.334395Z"
    },
    "papermill": {
     "duration": 0.04141,
     "end_time": "2024-09-27T14:22:19.338059",
     "exception": false,
     "start_time": "2024-09-27T14:22:19.296649",
     "status": "completed"
    },
    "tags": []
   },
   "outputs": [
    {
     "data": {
      "text/html": [
       "<div>\n",
       "<style scoped>\n",
       "    .dataframe tbody tr th:only-of-type {\n",
       "        vertical-align: middle;\n",
       "    }\n",
       "\n",
       "    .dataframe tbody tr th {\n",
       "        vertical-align: top;\n",
       "    }\n",
       "\n",
       "    .dataframe thead th {\n",
       "        text-align: right;\n",
       "    }\n",
       "</style>\n",
       "<table border=\"1\" class=\"dataframe\">\n",
       "  <thead>\n",
       "    <tr style=\"text-align: right;\">\n",
       "      <th></th>\n",
       "      <th>weighted_rating</th>\n",
       "    </tr>\n",
       "    <tr>\n",
       "      <th>movieId</th>\n",
       "      <th></th>\n",
       "    </tr>\n",
       "  </thead>\n",
       "  <tbody>\n",
       "    <tr>\n",
       "      <th>53</th>\n",
       "      <td>3.952</td>\n",
       "    </tr>\n",
       "    <tr>\n",
       "      <th>2057</th>\n",
       "      <td>3.764</td>\n",
       "    </tr>\n",
       "    <tr>\n",
       "      <th>2485</th>\n",
       "      <td>3.764</td>\n",
       "    </tr>\n",
       "    <tr>\n",
       "      <th>1922</th>\n",
       "      <td>3.764</td>\n",
       "    </tr>\n",
       "    <tr>\n",
       "      <th>3118</th>\n",
       "      <td>3.764</td>\n",
       "    </tr>\n",
       "    <tr>\n",
       "      <th>...</th>\n",
       "      <td>...</td>\n",
       "    </tr>\n",
       "    <tr>\n",
       "      <th>1981</th>\n",
       "      <td>0.349</td>\n",
       "    </tr>\n",
       "    <tr>\n",
       "      <th>8912</th>\n",
       "      <td>0.329</td>\n",
       "    </tr>\n",
       "    <tr>\n",
       "      <th>7193</th>\n",
       "      <td>0.329</td>\n",
       "    </tr>\n",
       "    <tr>\n",
       "      <th>5471</th>\n",
       "      <td>0.328</td>\n",
       "    </tr>\n",
       "    <tr>\n",
       "      <th>4247</th>\n",
       "      <td>0.328</td>\n",
       "    </tr>\n",
       "  </tbody>\n",
       "</table>\n",
       "<p>5990 rows × 1 columns</p>\n",
       "</div>"
      ],
      "text/plain": [
       "         weighted_rating\n",
       "movieId                 \n",
       "53                 3.952\n",
       "2057               3.764\n",
       "2485               3.764\n",
       "1922               3.764\n",
       "3118               3.764\n",
       "...                  ...\n",
       "1981               0.349\n",
       "8912               0.329\n",
       "7193               0.329\n",
       "5471               0.328\n",
       "4247               0.328\n",
       "\n",
       "[5990 rows x 1 columns]"
      ]
     },
     "execution_count": 21,
     "metadata": {},
     "output_type": "execute_result"
    }
   ],
   "source": [
    "recommendation_df = top_users_ratings.pivot_table(values=\"weighted_rating\", index=\"movieId\", aggfunc=\"mean\")\n",
    "recommendation_df.sort_values(by=\"weighted_rating\" ,ascending=False)"
   ]
  },
  {
   "cell_type": "markdown",
   "id": "7aa54fbf",
   "metadata": {
    "papermill": {
     "duration": 0.019454,
     "end_time": "2024-09-27T14:22:19.377219",
     "exception": false,
     "start_time": "2024-09-27T14:22:19.357765",
     "status": "completed"
    },
    "tags": []
   },
   "source": [
    "*Filtering and Sorting recommendation_df*"
   ]
  },
  {
   "cell_type": "code",
   "execution_count": 22,
   "id": "8925a430",
   "metadata": {
    "execution": {
     "iopub.execute_input": "2024-09-27T14:22:19.418760Z",
     "iopub.status.busy": "2024-09-27T14:22:19.417546Z",
     "iopub.status.idle": "2024-09-27T14:22:19.424643Z",
     "shell.execute_reply": "2024-09-27T14:22:19.423667Z"
    },
    "papermill": {
     "duration": 0.03049,
     "end_time": "2024-09-27T14:22:19.427078",
     "exception": false,
     "start_time": "2024-09-27T14:22:19.396588",
     "status": "completed"
    },
    "tags": []
   },
   "outputs": [],
   "source": [
    "movies_to_be_recommend = recommendation_df[recommendation_df[\"weighted_rating\"] > 3.5].sort_values(by=\"weighted_rating\", ascending=False).head(5)"
   ]
  },
  {
   "cell_type": "markdown",
   "id": "1ae18185",
   "metadata": {
    "papermill": {
     "duration": 0.019131,
     "end_time": "2024-09-27T14:22:19.466387",
     "exception": false,
     "start_time": "2024-09-27T14:22:19.447256",
     "status": "completed"
    },
    "tags": []
   },
   "source": [
    "*Returning 5 recommended movies*"
   ]
  },
  {
   "cell_type": "code",
   "execution_count": 23,
   "id": "5ec0e1bc",
   "metadata": {
    "execution": {
     "iopub.execute_input": "2024-09-27T14:22:19.507143Z",
     "iopub.status.busy": "2024-09-27T14:22:19.506702Z",
     "iopub.status.idle": "2024-09-27T14:22:19.523202Z",
     "shell.execute_reply": "2024-09-27T14:22:19.522075Z"
    },
    "papermill": {
     "duration": 0.039737,
     "end_time": "2024-09-27T14:22:19.525789",
     "exception": false,
     "start_time": "2024-09-27T14:22:19.486052",
     "status": "completed"
    },
    "tags": []
   },
   "outputs": [
    {
     "data": {
      "text/html": [
       "<div>\n",
       "<style scoped>\n",
       "    .dataframe tbody tr th:only-of-type {\n",
       "        vertical-align: middle;\n",
       "    }\n",
       "\n",
       "    .dataframe tbody tr th {\n",
       "        vertical-align: top;\n",
       "    }\n",
       "\n",
       "    .dataframe thead th {\n",
       "        text-align: right;\n",
       "    }\n",
       "</style>\n",
       "<table border=\"1\" class=\"dataframe\">\n",
       "  <thead>\n",
       "    <tr style=\"text-align: right;\">\n",
       "      <th></th>\n",
       "      <th>movieId</th>\n",
       "      <th>weighted_rating</th>\n",
       "      <th>title</th>\n",
       "      <th>genres</th>\n",
       "    </tr>\n",
       "  </thead>\n",
       "  <tbody>\n",
       "    <tr>\n",
       "      <th>0</th>\n",
       "      <td>53</td>\n",
       "      <td>3.952</td>\n",
       "      <td>Lamerica (1994)</td>\n",
       "      <td>Adventure|Drama</td>\n",
       "    </tr>\n",
       "    <tr>\n",
       "      <th>1</th>\n",
       "      <td>1922</td>\n",
       "      <td>3.764</td>\n",
       "      <td>Whatever (1998)</td>\n",
       "      <td>Drama</td>\n",
       "    </tr>\n",
       "    <tr>\n",
       "      <th>2</th>\n",
       "      <td>2057</td>\n",
       "      <td>3.764</td>\n",
       "      <td>Incredible Journey, The (1963)</td>\n",
       "      <td>Adventure|Children</td>\n",
       "    </tr>\n",
       "    <tr>\n",
       "      <th>3</th>\n",
       "      <td>2485</td>\n",
       "      <td>3.764</td>\n",
       "      <td>She's All That (1999)</td>\n",
       "      <td>Comedy|Romance</td>\n",
       "    </tr>\n",
       "    <tr>\n",
       "      <th>4</th>\n",
       "      <td>3118</td>\n",
       "      <td>3.764</td>\n",
       "      <td>Tumbleweeds (1999)</td>\n",
       "      <td>Drama</td>\n",
       "    </tr>\n",
       "  </tbody>\n",
       "</table>\n",
       "</div>"
      ],
      "text/plain": [
       "   movieId  weighted_rating                           title              genres\n",
       "0       53            3.952                 Lamerica (1994)     Adventure|Drama\n",
       "1     1922            3.764                 Whatever (1998)               Drama\n",
       "2     2057            3.764  Incredible Journey, The (1963)  Adventure|Children\n",
       "3     2485            3.764           She's All That (1999)      Comedy|Romance\n",
       "4     3118            3.764              Tumbleweeds (1999)               Drama"
      ]
     },
     "execution_count": 23,
     "metadata": {},
     "output_type": "execute_result"
    }
   ],
   "source": [
    "pd.merge(movies_to_be_recommend,movie,how=\"inner\",on=\"movieId\")[[\"movieId\",\"weighted_rating\",\"title\",\"genres\"]]"
   ]
  },
  {
   "cell_type": "markdown",
   "id": "1222c880",
   "metadata": {
    "papermill": {
     "duration": 0.019593,
     "end_time": "2024-09-27T14:22:19.565472",
     "exception": false,
     "start_time": "2024-09-27T14:22:19.545879",
     "status": "completed"
    },
    "tags": []
   },
   "source": [
    "**ITEM-BASED RECOMMENDATION**"
   ]
  },
  {
   "cell_type": "markdown",
   "id": "ca855a3e",
   "metadata": {
    "papermill": {
     "duration": 0.019606,
     "end_time": "2024-09-27T14:22:19.605077",
     "exception": false,
     "start_time": "2024-09-27T14:22:19.585471",
     "status": "completed"
    },
    "tags": []
   },
   "source": [
    "**Making an item-based recommendation based on the last movie watched and rated the highest by the random user**"
   ]
  },
  {
   "cell_type": "markdown",
   "id": "888dee42",
   "metadata": {
    "papermill": {
     "duration": 0.019565,
     "end_time": "2024-09-27T14:22:19.644415",
     "exception": false,
     "start_time": "2024-09-27T14:22:19.624850",
     "status": "completed"
    },
    "tags": []
   },
   "source": [
    "*Selecting the random user's last watched and highest rated movie ID*"
   ]
  },
  {
   "cell_type": "code",
   "execution_count": 24,
   "id": "abc886cc",
   "metadata": {
    "execution": {
     "iopub.execute_input": "2024-09-27T14:22:19.686832Z",
     "iopub.status.busy": "2024-09-27T14:22:19.686439Z",
     "iopub.status.idle": "2024-09-27T14:22:19.755097Z",
     "shell.execute_reply": "2024-09-27T14:22:19.753959Z"
    },
    "papermill": {
     "duration": 0.09293,
     "end_time": "2024-09-27T14:22:19.757633",
     "exception": false,
     "start_time": "2024-09-27T14:22:19.664703",
     "status": "completed"
    },
    "tags": []
   },
   "outputs": [
    {
     "name": "stdout",
     "output_type": "stream",
     "text": [
      "7\n"
     ]
    }
   ],
   "source": [
    "pick = rating[(rating[\"rating\"] == 5) & (rating[\"userId\"]==random_user)].sort_values(by=\"timestamp\", ascending=False).iloc[0][\"movieId\"]\n",
    "print(pick)"
   ]
  },
  {
   "cell_type": "markdown",
   "id": "4c3033fe",
   "metadata": {
    "papermill": {
     "duration": 0.019598,
     "end_time": "2024-09-27T14:22:19.797272",
     "exception": false,
     "start_time": "2024-09-27T14:22:19.777674",
     "status": "completed"
    },
    "tags": []
   },
   "source": [
    "*Filtering user_movie_df with selected movie ID*"
   ]
  },
  {
   "cell_type": "code",
   "execution_count": 25,
   "id": "5c381d70",
   "metadata": {
    "execution": {
     "iopub.execute_input": "2024-09-27T14:22:19.839452Z",
     "iopub.status.busy": "2024-09-27T14:22:19.838995Z",
     "iopub.status.idle": "2024-09-27T14:22:19.846298Z",
     "shell.execute_reply": "2024-09-27T14:22:19.845194Z"
    },
    "papermill": {
     "duration": 0.031713,
     "end_time": "2024-09-27T14:22:19.848737",
     "exception": false,
     "start_time": "2024-09-27T14:22:19.817024",
     "status": "completed"
    },
    "tags": []
   },
   "outputs": [
    {
     "name": "stdout",
     "output_type": "stream",
     "text": [
      "Sabrina (1995)\n"
     ]
    }
   ],
   "source": [
    "picked_movie_name = movie[\"title\"][movie[\"movieId\"]==pick].iloc[0]\n",
    "print(picked_movie_name)"
   ]
  },
  {
   "cell_type": "code",
   "execution_count": 26,
   "id": "2abce2be",
   "metadata": {
    "execution": {
     "iopub.execute_input": "2024-09-27T14:22:19.890963Z",
     "iopub.status.busy": "2024-09-27T14:22:19.890524Z",
     "iopub.status.idle": "2024-09-27T14:22:19.901501Z",
     "shell.execute_reply": "2024-09-27T14:22:19.900367Z"
    },
    "papermill": {
     "duration": 0.035219,
     "end_time": "2024-09-27T14:22:19.904096",
     "exception": false,
     "start_time": "2024-09-27T14:22:19.868877",
     "status": "completed"
    },
    "tags": []
   },
   "outputs": [
    {
     "data": {
      "text/plain": [
       "userId\n",
       "6        5.000\n",
       "7        3.000\n",
       "12       3.000\n",
       "14       3.500\n",
       "19       5.000\n",
       "          ... \n",
       "138382   3.000\n",
       "138387   3.000\n",
       "138404   3.500\n",
       "138408   3.000\n",
       "138432   3.000\n",
       "Name: Sabrina (1995), Length: 12961, dtype: float64"
      ]
     },
     "execution_count": 26,
     "metadata": {},
     "output_type": "execute_result"
    }
   ],
   "source": [
    "final = user_movie_df[picked_movie_name]\n",
    "final[final.notna()]"
   ]
  },
  {
   "cell_type": "markdown",
   "id": "4672b0db",
   "metadata": {
    "papermill": {
     "duration": 0.01974,
     "end_time": "2024-09-27T14:22:19.944241",
     "exception": false,
     "start_time": "2024-09-27T14:22:19.924501",
     "status": "completed"
    },
    "tags": []
   },
   "source": [
    "*Creating Correlation DF*"
   ]
  },
  {
   "cell_type": "code",
   "execution_count": 27,
   "id": "9dee3d36",
   "metadata": {
    "execution": {
     "iopub.execute_input": "2024-09-27T14:22:19.986485Z",
     "iopub.status.busy": "2024-09-27T14:22:19.986036Z",
     "iopub.status.idle": "2024-09-27T14:22:25.162792Z",
     "shell.execute_reply": "2024-09-27T14:22:25.161742Z"
    },
    "papermill": {
     "duration": 5.201227,
     "end_time": "2024-09-27T14:22:25.165688",
     "exception": false,
     "start_time": "2024-09-27T14:22:19.964461",
     "status": "completed"
    },
    "tags": []
   },
   "outputs": [],
   "source": [
    "users_wo_random = user_movie_df.drop(random_user,axis=0).drop(movies_watched,axis=1)\n",
    "final_wo_lucky = final.drop(random_user,axis=0)\n",
    "\n",
    "movies_similarity = users_wo_random.corrwith(final_wo_lucky).sort_values(ascending=False).reset_index()\n",
    "\n",
    "movies_similarity.columns=[\"title\",\"similarity\"]"
   ]
  },
  {
   "cell_type": "markdown",
   "id": "2f6e1061",
   "metadata": {
    "papermill": {
     "duration": 0.020098,
     "end_time": "2024-09-27T14:22:25.206085",
     "exception": false,
     "start_time": "2024-09-27T14:22:25.185987",
     "status": "completed"
    },
    "tags": []
   },
   "source": [
    "*Returning 5 recommended movies without picked movie*"
   ]
  },
  {
   "cell_type": "code",
   "execution_count": 28,
   "id": "6afed31d",
   "metadata": {
    "execution": {
     "iopub.execute_input": "2024-09-27T14:22:25.248916Z",
     "iopub.status.busy": "2024-09-27T14:22:25.247656Z",
     "iopub.status.idle": "2024-09-27T14:22:25.259061Z",
     "shell.execute_reply": "2024-09-27T14:22:25.257946Z"
    },
    "papermill": {
     "duration": 0.035316,
     "end_time": "2024-09-27T14:22:25.261539",
     "exception": false,
     "start_time": "2024-09-27T14:22:25.226223",
     "status": "completed"
    },
    "tags": []
   },
   "outputs": [
    {
     "data": {
      "text/html": [
       "<div>\n",
       "<style scoped>\n",
       "    .dataframe tbody tr th:only-of-type {\n",
       "        vertical-align: middle;\n",
       "    }\n",
       "\n",
       "    .dataframe tbody tr th {\n",
       "        vertical-align: top;\n",
       "    }\n",
       "\n",
       "    .dataframe thead th {\n",
       "        text-align: right;\n",
       "    }\n",
       "</style>\n",
       "<table border=\"1\" class=\"dataframe\">\n",
       "  <thead>\n",
       "    <tr style=\"text-align: right;\">\n",
       "      <th></th>\n",
       "      <th>title</th>\n",
       "      <th>similarity</th>\n",
       "    </tr>\n",
       "  </thead>\n",
       "  <tbody>\n",
       "    <tr>\n",
       "      <th>0</th>\n",
       "      <td>Intouchables (2011)</td>\n",
       "      <td>0.503</td>\n",
       "    </tr>\n",
       "    <tr>\n",
       "      <th>1</th>\n",
       "      <td>Father of the Bride (1991)</td>\n",
       "      <td>0.500</td>\n",
       "    </tr>\n",
       "    <tr>\n",
       "      <th>2</th>\n",
       "      <td>Anna and the King (1999)</td>\n",
       "      <td>0.494</td>\n",
       "    </tr>\n",
       "    <tr>\n",
       "      <th>3</th>\n",
       "      <td>Runaway Bride (1999)</td>\n",
       "      <td>0.484</td>\n",
       "    </tr>\n",
       "    <tr>\n",
       "      <th>4</th>\n",
       "      <td>Phantom of the Opera, The (2004)</td>\n",
       "      <td>0.476</td>\n",
       "    </tr>\n",
       "  </tbody>\n",
       "</table>\n",
       "</div>"
      ],
      "text/plain": [
       "                              title  similarity\n",
       "0               Intouchables (2011)       0.503\n",
       "1        Father of the Bride (1991)       0.500\n",
       "2          Anna and the King (1999)       0.494\n",
       "3              Runaway Bride (1999)       0.484\n",
       "4  Phantom of the Opera, The (2004)       0.476"
      ]
     },
     "execution_count": 28,
     "metadata": {},
     "output_type": "execute_result"
    }
   ],
   "source": [
    "movies_similarity.sort_values(by=\"similarity\",ascending=False).head(5)"
   ]
  },
  {
   "cell_type": "markdown",
   "id": "9c4d289b",
   "metadata": {
    "papermill": {
     "duration": 0.019866,
     "end_time": "2024-09-27T14:22:25.302020",
     "exception": false,
     "start_time": "2024-09-27T14:22:25.282154",
     "status": "completed"
    },
    "tags": []
   },
   "source": [
    "**HYBRID RECOMMENDER SYSTEM - User-based & Item-based**"
   ]
  },
  {
   "cell_type": "markdown",
   "id": "dd0f7473",
   "metadata": {
    "papermill": {
     "duration": 0.020122,
     "end_time": "2024-09-27T14:22:25.342407",
     "exception": false,
     "start_time": "2024-09-27T14:22:25.322285",
     "status": "completed"
    },
    "tags": []
   },
   "source": [
    "**Calculating hybrid movie recommendation based on similarity scores and weighted rating**"
   ]
  },
  {
   "cell_type": "markdown",
   "id": "662980ae",
   "metadata": {
    "papermill": {
     "duration": 0.019928,
     "end_time": "2024-09-27T14:22:25.382540",
     "exception": false,
     "start_time": "2024-09-27T14:22:25.362612",
     "status": "completed"
    },
    "tags": []
   },
   "source": [
    "*Combining movies highly similar to the ones the random user rated 5 stars, with movies that similar users have rated an average of 3.5 or higher*"
   ]
  },
  {
   "cell_type": "code",
   "execution_count": 29,
   "id": "11cf8fc1",
   "metadata": {
    "execution": {
     "iopub.execute_input": "2024-09-27T14:22:25.425349Z",
     "iopub.status.busy": "2024-09-27T14:22:25.424889Z",
     "iopub.status.idle": "2024-09-27T14:22:25.442316Z",
     "shell.execute_reply": "2024-09-27T14:22:25.441008Z"
    },
    "papermill": {
     "duration": 0.041909,
     "end_time": "2024-09-27T14:22:25.445087",
     "exception": false,
     "start_time": "2024-09-27T14:22:25.403178",
     "status": "completed"
    },
    "tags": []
   },
   "outputs": [],
   "source": [
    "movies_ordered_by_rating = pd.merge(recommendation_df,movie,how=\"inner\",on=\"movieId\")[[\"movieId\",\"weighted_rating\",\"title\"]]\n",
    "\n",
    "merged = pd.merge(movies_similarity,movies_ordered_by_rating,how=\"inner\", on=\"title\")"
   ]
  },
  {
   "cell_type": "markdown",
   "id": "49ac06c8",
   "metadata": {
    "papermill": {
     "duration": 0.019898,
     "end_time": "2024-09-27T14:22:25.485490",
     "exception": false,
     "start_time": "2024-09-27T14:22:25.465592",
     "status": "completed"
    },
    "tags": []
   },
   "source": [
    "*Multiplying the similarity score by the average rating*"
   ]
  },
  {
   "cell_type": "code",
   "execution_count": 30,
   "id": "513d2b68",
   "metadata": {
    "execution": {
     "iopub.execute_input": "2024-09-27T14:22:25.527824Z",
     "iopub.status.busy": "2024-09-27T14:22:25.527433Z",
     "iopub.status.idle": "2024-09-27T14:22:25.533824Z",
     "shell.execute_reply": "2024-09-27T14:22:25.532728Z"
    },
    "papermill": {
     "duration": 0.030495,
     "end_time": "2024-09-27T14:22:25.536212",
     "exception": false,
     "start_time": "2024-09-27T14:22:25.505717",
     "status": "completed"
    },
    "tags": []
   },
   "outputs": [],
   "source": [
    "merged[\"hybrid\"] = merged[\"similarity\"] * merged[\"weighted_rating\"]"
   ]
  },
  {
   "cell_type": "markdown",
   "id": "24b7c5ac",
   "metadata": {
    "papermill": {
     "duration": 0.020086,
     "end_time": "2024-09-27T14:22:25.576604",
     "exception": false,
     "start_time": "2024-09-27T14:22:25.556518",
     "status": "completed"
    },
    "tags": []
   },
   "source": [
    "*Recommendation based on the ranking*"
   ]
  },
  {
   "cell_type": "code",
   "execution_count": 31,
   "id": "637c575f",
   "metadata": {
    "execution": {
     "iopub.execute_input": "2024-09-27T14:22:25.619577Z",
     "iopub.status.busy": "2024-09-27T14:22:25.618715Z",
     "iopub.status.idle": "2024-09-27T14:22:25.632449Z",
     "shell.execute_reply": "2024-09-27T14:22:25.631284Z"
    },
    "papermill": {
     "duration": 0.037694,
     "end_time": "2024-09-27T14:22:25.634751",
     "exception": false,
     "start_time": "2024-09-27T14:22:25.597057",
     "status": "completed"
    },
    "tags": []
   },
   "outputs": [
    {
     "data": {
      "text/html": [
       "<div>\n",
       "<style scoped>\n",
       "    .dataframe tbody tr th:only-of-type {\n",
       "        vertical-align: middle;\n",
       "    }\n",
       "\n",
       "    .dataframe tbody tr th {\n",
       "        vertical-align: top;\n",
       "    }\n",
       "\n",
       "    .dataframe thead th {\n",
       "        text-align: right;\n",
       "    }\n",
       "</style>\n",
       "<table border=\"1\" class=\"dataframe\">\n",
       "  <thead>\n",
       "    <tr style=\"text-align: right;\">\n",
       "      <th></th>\n",
       "      <th>title</th>\n",
       "      <th>hybrid</th>\n",
       "    </tr>\n",
       "  </thead>\n",
       "  <tbody>\n",
       "    <tr>\n",
       "      <th>116</th>\n",
       "      <td>She's All That (1999)</td>\n",
       "      <td>1.419</td>\n",
       "    </tr>\n",
       "    <tr>\n",
       "      <th>15</th>\n",
       "      <td>Doc Hollywood (1991)</td>\n",
       "      <td>1.232</td>\n",
       "    </tr>\n",
       "    <tr>\n",
       "      <th>29</th>\n",
       "      <td>Never Been Kissed (1999)</td>\n",
       "      <td>1.212</td>\n",
       "    </tr>\n",
       "    <tr>\n",
       "      <th>67</th>\n",
       "      <td>Picture Perfect (1997)</td>\n",
       "      <td>1.205</td>\n",
       "    </tr>\n",
       "    <tr>\n",
       "      <th>1</th>\n",
       "      <td>Anna and the King (1999)</td>\n",
       "      <td>1.197</td>\n",
       "    </tr>\n",
       "    <tr>\n",
       "      <th>43</th>\n",
       "      <td>Hitch (2005)</td>\n",
       "      <td>1.187</td>\n",
       "    </tr>\n",
       "    <tr>\n",
       "      <th>221</th>\n",
       "      <td>Angela's Ashes (1999)</td>\n",
       "      <td>1.185</td>\n",
       "    </tr>\n",
       "    <tr>\n",
       "      <th>82</th>\n",
       "      <td>Definitely, Maybe (2008)</td>\n",
       "      <td>1.165</td>\n",
       "    </tr>\n",
       "    <tr>\n",
       "      <th>10</th>\n",
       "      <td>Mona Lisa Smile (2003)</td>\n",
       "      <td>1.151</td>\n",
       "    </tr>\n",
       "    <tr>\n",
       "      <th>0</th>\n",
       "      <td>Father of the Bride (1991)</td>\n",
       "      <td>1.122</td>\n",
       "    </tr>\n",
       "  </tbody>\n",
       "</table>\n",
       "</div>"
      ],
      "text/plain": [
       "                          title  hybrid\n",
       "116       She's All That (1999)   1.419\n",
       "15         Doc Hollywood (1991)   1.232\n",
       "29     Never Been Kissed (1999)   1.212\n",
       "67       Picture Perfect (1997)   1.205\n",
       "1      Anna and the King (1999)   1.197\n",
       "43                 Hitch (2005)   1.187\n",
       "221       Angela's Ashes (1999)   1.185\n",
       "82     Definitely, Maybe (2008)   1.165\n",
       "10       Mona Lisa Smile (2003)   1.151\n",
       "0    Father of the Bride (1991)   1.122"
      ]
     },
     "execution_count": 31,
     "metadata": {},
     "output_type": "execute_result"
    }
   ],
   "source": [
    "merged[[\"title\",\"hybrid\"]].sort_values(by=\"hybrid\", ascending=False).head(10)"
   ]
  }
 ],
 "metadata": {
  "kaggle": {
   "accelerator": "none",
   "dataSources": [
    {
     "datasetId": 5777233,
     "sourceId": 9494451,
     "sourceType": "datasetVersion"
    }
   ],
   "dockerImageVersionId": 30775,
   "isGpuEnabled": false,
   "isInternetEnabled": true,
   "language": "python",
   "sourceType": "notebook"
  },
  "kernelspec": {
   "display_name": "Python 3",
   "language": "python",
   "name": "python3"
  },
  "language_info": {
   "codemirror_mode": {
    "name": "ipython",
    "version": 3
   },
   "file_extension": ".py",
   "mimetype": "text/x-python",
   "name": "python",
   "nbconvert_exporter": "python",
   "pygments_lexer": "ipython3",
   "version": "3.10.14"
  },
  "papermill": {
   "default_parameters": {},
   "duration": 86.404257,
   "end_time": "2024-09-27T14:22:28.276434",
   "environment_variables": {},
   "exception": null,
   "input_path": "__notebook__.ipynb",
   "output_path": "__notebook__.ipynb",
   "parameters": {},
   "start_time": "2024-09-27T14:21:01.872177",
   "version": "2.6.0"
  }
 },
 "nbformat": 4,
 "nbformat_minor": 5
}
